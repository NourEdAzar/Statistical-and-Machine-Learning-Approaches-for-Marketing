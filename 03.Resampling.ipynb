{
 "cells": [
  {
   "cell_type": "markdown",
   "id": "0a6421e1",
   "metadata": {},
   "source": [
    "# Chapter 5"
   ]
  },
  {
   "cell_type": "markdown",
   "id": "1ba5f77f",
   "metadata": {},
   "source": [
    "Exercise 3"
   ]
  },
  {
   "cell_type": "code",
   "execution_count": 2,
   "id": "631a0f62",
   "metadata": {},
   "outputs": [],
   "source": [
    "##a## How K-Fold cross validation is implemented\n",
    "# We randomly divide the set of observations in k groups of equal size, The first k groups is treated as a validation set and \n",
    "#the rest of the groups (or folds) are treated as a training set. We do this k times and each time  we treat the other k group\n",
    "#as a validation set. After doing this procedure, we get k times the MSE, and we get the average MSE by dividing all the MSEs\n",
    "#by k.\n",
    "\n",
    "##b## advantages and disadvantages\n",
    "#i# The validation set approach:\n",
    "# easy to implement but the MSE in the validation set can be highly variable and only a subset of obervations is used to train the data\n",
    "#ii# LOOCV\n",
    "# Has less bias but intensive computation since k=n"
   ]
  },
  {
   "cell_type": "markdown",
   "id": "5371fc21",
   "metadata": {},
   "source": [
    "Exercise 8"
   ]
  },
  {
   "cell_type": "code",
   "execution_count": 5,
   "id": "b51df6bf",
   "metadata": {},
   "outputs": [
    {
     "data": {
      "text/html": [
       "<style>\n",
       ".list-inline {list-style: none; margin:0; padding: 0}\n",
       ".list-inline>li {display: inline-block}\n",
       ".list-inline>li:not(:last-child)::after {content: \"\\00b7\"; padding: 0 .5ex}\n",
       "</style>\n",
       "<ol class=list-inline><li>-2.03170924195364</li><li>0.158309456303644</li><li>-3.14310061671917</li><li>-3.33653210079692</li><li>-0.542227615476905</li><li>-0.399517853419823</li><li>0.728962366143029</li><li>0.558252194216153</li><li>0.296918379655992</li><li>1.19026355934314</li><li>-3.69491988806335</li><li>-0.375756991900613</li><li>0.0391619401760244</li><li>-12.6751874210159</li><li>-1.61338896664745</li><li>-0.441779596895482</li><li>-0.336707380885879</li><li>-1.11693067749283</li><li>-0.0333989761907501</li><li>-0.288866719739903</li><li>-1.27601890956194</li><li>0.901700740058922</li><li>-0.15113429867018</li><li>-10.0839485655757</li><li>-0.248732908825326</li><li>0.650236696720176</li><li>-0.277904390650796</li><li>-5.83461170485712</li><li>-1.61706548426503</li><li>-0.25567900753094</li><li>-2.27318025552277</li><li>-0.712812847387335</li><li>0.618589247373865</li><li>-1.57798908715395</li><li>-4.86308774214484</li><li>-2.29588536197385</li><li>-1.00619521574078</li><li>-0.594629459215029</li><li>-1.97218104671368</li><li>-0.458595475457314</li><li>-2.13301904938203</li><li>0.794837349958867</li><li>-1.9395249541184</li><li>-0.526615036313904</li><li>-2.75344461314115</li><li>-2.45941295240528</li><li>2.18590849353409</li><li>-0.395357167919768</li><li>-1.42389008535356</li><li>-2.31219945919899</li><li>0.531316397674047</li><li>-1.3797388380365</li><li>-0.209673970874409</li><li>-4.60964724911288</li><li>-4.16155046771433</li><li>-6.93875991411386</li><li>0.363104101690919</li><li>-3.84583555685968</li><li>-1.46386812772832</li><li>1.69775652648394</li><li>-8.70881759726673</li><li>-0.2809666592752</li><li>0.796741634931789</li><li>0.912856568362847</li><li>-2.46742638319825</li><li>2.32360969934298</li><li>-8.57573696304848</li><li>-4.25464189315114</li><li>-0.0381194350885023</li><li>-7.06033293079315</li><li>2.33126930381027</li><li>-1.61219193258535</li><li>0.321751801220392</li><li>-2.75632733788758</li><li>-4.73082764699575</li><li>0.0868383908115858</li><li>-0.0486676373112858</li><li>2.07634791667945</li><li>1.09068049796219</li><li>-0.0766824397903272</li><li>-2.44676040974735</li><li>0.812170438955953</li><li>-1.37776614275589</li><li>-7.63332842026557</li><li>0.409424782679888</li><li>-0.0475161328849369</li><li>0.267324621212103</li><li>-1.25532164203408</li><li>-0.334020783395991</li><li>-0.801694234669182</li><li>-1.30827996048255</li><li>-1.30800968799169</li><li>-2.26441401844803</li><li>0.549988507562447</li><li>-4.65733015666369</li><li>-1.11331216232386</li><li>-3.09480983500529</li><li>-2.24637934986191</li><li>-3.81199001571722</li><li>-1.30269301271052</li></ol>\n"
      ],
      "text/latex": [
       "\\begin{enumerate*}\n",
       "\\item -2.03170924195364\n",
       "\\item 0.158309456303644\n",
       "\\item -3.14310061671917\n",
       "\\item -3.33653210079692\n",
       "\\item -0.542227615476905\n",
       "\\item -0.399517853419823\n",
       "\\item 0.728962366143029\n",
       "\\item 0.558252194216153\n",
       "\\item 0.296918379655992\n",
       "\\item 1.19026355934314\n",
       "\\item -3.69491988806335\n",
       "\\item -0.375756991900613\n",
       "\\item 0.0391619401760244\n",
       "\\item -12.6751874210159\n",
       "\\item -1.61338896664745\n",
       "\\item -0.441779596895482\n",
       "\\item -0.336707380885879\n",
       "\\item -1.11693067749283\n",
       "\\item -0.0333989761907501\n",
       "\\item -0.288866719739903\n",
       "\\item -1.27601890956194\n",
       "\\item 0.901700740058922\n",
       "\\item -0.15113429867018\n",
       "\\item -10.0839485655757\n",
       "\\item -0.248732908825326\n",
       "\\item 0.650236696720176\n",
       "\\item -0.277904390650796\n",
       "\\item -5.83461170485712\n",
       "\\item -1.61706548426503\n",
       "\\item -0.25567900753094\n",
       "\\item -2.27318025552277\n",
       "\\item -0.712812847387335\n",
       "\\item 0.618589247373865\n",
       "\\item -1.57798908715395\n",
       "\\item -4.86308774214484\n",
       "\\item -2.29588536197385\n",
       "\\item -1.00619521574078\n",
       "\\item -0.594629459215029\n",
       "\\item -1.97218104671368\n",
       "\\item -0.458595475457314\n",
       "\\item -2.13301904938203\n",
       "\\item 0.794837349958867\n",
       "\\item -1.9395249541184\n",
       "\\item -0.526615036313904\n",
       "\\item -2.75344461314115\n",
       "\\item -2.45941295240528\n",
       "\\item 2.18590849353409\n",
       "\\item -0.395357167919768\n",
       "\\item -1.42389008535356\n",
       "\\item -2.31219945919899\n",
       "\\item 0.531316397674047\n",
       "\\item -1.3797388380365\n",
       "\\item -0.209673970874409\n",
       "\\item -4.60964724911288\n",
       "\\item -4.16155046771433\n",
       "\\item -6.93875991411386\n",
       "\\item 0.363104101690919\n",
       "\\item -3.84583555685968\n",
       "\\item -1.46386812772832\n",
       "\\item 1.69775652648394\n",
       "\\item -8.70881759726673\n",
       "\\item -0.2809666592752\n",
       "\\item 0.796741634931789\n",
       "\\item 0.912856568362847\n",
       "\\item -2.46742638319825\n",
       "\\item 2.32360969934298\n",
       "\\item -8.57573696304848\n",
       "\\item -4.25464189315114\n",
       "\\item -0.0381194350885023\n",
       "\\item -7.06033293079315\n",
       "\\item 2.33126930381027\n",
       "\\item -1.61219193258535\n",
       "\\item 0.321751801220392\n",
       "\\item -2.75632733788758\n",
       "\\item -4.73082764699575\n",
       "\\item 0.0868383908115858\n",
       "\\item -0.0486676373112858\n",
       "\\item 2.07634791667945\n",
       "\\item 1.09068049796219\n",
       "\\item -0.0766824397903272\n",
       "\\item -2.44676040974735\n",
       "\\item 0.812170438955953\n",
       "\\item -1.37776614275589\n",
       "\\item -7.63332842026557\n",
       "\\item 0.409424782679888\n",
       "\\item -0.0475161328849369\n",
       "\\item 0.267324621212103\n",
       "\\item -1.25532164203408\n",
       "\\item -0.334020783395991\n",
       "\\item -0.801694234669182\n",
       "\\item -1.30827996048255\n",
       "\\item -1.30800968799169\n",
       "\\item -2.26441401844803\n",
       "\\item 0.549988507562447\n",
       "\\item -4.65733015666369\n",
       "\\item -1.11331216232386\n",
       "\\item -3.09480983500529\n",
       "\\item -2.24637934986191\n",
       "\\item -3.81199001571722\n",
       "\\item -1.30269301271052\n",
       "\\end{enumerate*}\n"
      ],
      "text/markdown": [
       "1. -2.03170924195364\n",
       "2. 0.158309456303644\n",
       "3. -3.14310061671917\n",
       "4. -3.33653210079692\n",
       "5. -0.542227615476905\n",
       "6. -0.399517853419823\n",
       "7. 0.728962366143029\n",
       "8. 0.558252194216153\n",
       "9. 0.296918379655992\n",
       "10. 1.19026355934314\n",
       "11. -3.69491988806335\n",
       "12. -0.375756991900613\n",
       "13. 0.0391619401760244\n",
       "14. -12.6751874210159\n",
       "15. -1.61338896664745\n",
       "16. -0.441779596895482\n",
       "17. -0.336707380885879\n",
       "18. -1.11693067749283\n",
       "19. -0.0333989761907501\n",
       "20. -0.288866719739903\n",
       "21. -1.27601890956194\n",
       "22. 0.901700740058922\n",
       "23. -0.15113429867018\n",
       "24. -10.0839485655757\n",
       "25. -0.248732908825326\n",
       "26. 0.650236696720176\n",
       "27. -0.277904390650796\n",
       "28. -5.83461170485712\n",
       "29. -1.61706548426503\n",
       "30. -0.25567900753094\n",
       "31. -2.27318025552277\n",
       "32. -0.712812847387335\n",
       "33. 0.618589247373865\n",
       "34. -1.57798908715395\n",
       "35. -4.86308774214484\n",
       "36. -2.29588536197385\n",
       "37. -1.00619521574078\n",
       "38. -0.594629459215029\n",
       "39. -1.97218104671368\n",
       "40. -0.458595475457314\n",
       "41. -2.13301904938203\n",
       "42. 0.794837349958867\n",
       "43. -1.9395249541184\n",
       "44. -0.526615036313904\n",
       "45. -2.75344461314115\n",
       "46. -2.45941295240528\n",
       "47. 2.18590849353409\n",
       "48. -0.395357167919768\n",
       "49. -1.42389008535356\n",
       "50. -2.31219945919899\n",
       "51. 0.531316397674047\n",
       "52. -1.3797388380365\n",
       "53. -0.209673970874409\n",
       "54. -4.60964724911288\n",
       "55. -4.16155046771433\n",
       "56. -6.93875991411386\n",
       "57. 0.363104101690919\n",
       "58. -3.84583555685968\n",
       "59. -1.46386812772832\n",
       "60. 1.69775652648394\n",
       "61. -8.70881759726673\n",
       "62. -0.2809666592752\n",
       "63. 0.796741634931789\n",
       "64. 0.912856568362847\n",
       "65. -2.46742638319825\n",
       "66. 2.32360969934298\n",
       "67. -8.57573696304848\n",
       "68. -4.25464189315114\n",
       "69. -0.0381194350885023\n",
       "70. -7.06033293079315\n",
       "71. 2.33126930381027\n",
       "72. -1.61219193258535\n",
       "73. 0.321751801220392\n",
       "74. -2.75632733788758\n",
       "75. -4.73082764699575\n",
       "76. 0.0868383908115858\n",
       "77. -0.0486676373112858\n",
       "78. 2.07634791667945\n",
       "79. 1.09068049796219\n",
       "80. -0.0766824397903272\n",
       "81. -2.44676040974735\n",
       "82. 0.812170438955953\n",
       "83. -1.37776614275589\n",
       "84. -7.63332842026557\n",
       "85. 0.409424782679888\n",
       "86. -0.0475161328849369\n",
       "87. 0.267324621212103\n",
       "88. -1.25532164203408\n",
       "89. -0.334020783395991\n",
       "90. -0.801694234669182\n",
       "91. -1.30827996048255\n",
       "92. -1.30800968799169\n",
       "93. -2.26441401844803\n",
       "94. 0.549988507562447\n",
       "95. -4.65733015666369\n",
       "96. -1.11331216232386\n",
       "97. -3.09480983500529\n",
       "98. -2.24637934986191\n",
       "99. -3.81199001571722\n",
       "100. -1.30269301271052\n",
       "\n",
       "\n"
      ],
      "text/plain": [
       "  [1]  -2.03170924   0.15830946  -3.14310062  -3.33653210  -0.54222762\n",
       "  [6]  -0.39951785   0.72896237   0.55825219   0.29691838   1.19026356\n",
       " [11]  -3.69491989  -0.37575699   0.03916194 -12.67518742  -1.61338897\n",
       " [16]  -0.44177960  -0.33670738  -1.11693068  -0.03339898  -0.28886672\n",
       " [21]  -1.27601891   0.90170074  -0.15113430 -10.08394857  -0.24873291\n",
       " [26]   0.65023670  -0.27790439  -5.83461170  -1.61706548  -0.25567901\n",
       " [31]  -2.27318026  -0.71281285   0.61858925  -1.57798909  -4.86308774\n",
       " [36]  -2.29588536  -1.00619522  -0.59462946  -1.97218105  -0.45859548\n",
       " [41]  -2.13301905   0.79483735  -1.93952495  -0.52661504  -2.75344461\n",
       " [46]  -2.45941295   2.18590849  -0.39535717  -1.42389009  -2.31219946\n",
       " [51]   0.53131640  -1.37973884  -0.20967397  -4.60964725  -4.16155047\n",
       " [56]  -6.93875991   0.36310410  -3.84583556  -1.46386813   1.69775653\n",
       " [61]  -8.70881760  -0.28096666   0.79674163   0.91285657  -2.46742638\n",
       " [66]   2.32360970  -8.57573696  -4.25464189  -0.03811944  -7.06033293\n",
       " [71]   2.33126930  -1.61219193   0.32175180  -2.75632734  -4.73082765\n",
       " [76]   0.08683839  -0.04866764   2.07634792   1.09068050  -0.07668244\n",
       " [81]  -2.44676041   0.81217044  -1.37776614  -7.63332842   0.40942478\n",
       " [86]  -0.04751613   0.26732462  -1.25532164  -0.33402078  -0.80169423\n",
       " [91]  -1.30827996  -1.30800969  -2.26441402   0.54998851  -4.65733016\n",
       " [96]  -1.11331216  -3.09480984  -2.24637935  -3.81199002  -1.30269301"
      ]
     },
     "metadata": {},
     "output_type": "display_data"
    }
   ],
   "source": [
    "set.seed(1)\n",
    "x=rnorm(100)\n",
    "y=x-2*x^2+rnorm(100)\n"
   ]
  },
  {
   "cell_type": "markdown",
   "id": "e30ef025",
   "metadata": {},
   "source": [
    "(a)\n",
    "n is equal to 100 (number of observations) and p = 2 which is the variables x and y.\n",
    "Y=X−2X^2+ε."
   ]
  },
  {
   "cell_type": "code",
   "execution_count": 6,
   "id": "3fa3ed3a",
   "metadata": {},
   "outputs": [
    {
     "data": {
      "image/png": "[encoded data removed]",
      "text/plain": [
       "plot without title"
      ]
     },
     "metadata": {
      "image/png": {
       "height": 420,
       "width": 420
      }
     },
     "output_type": "display_data"
    }
   ],
   "source": [
    "#b#\n",
    "plot(x,y)"
   ]
  },
  {
   "cell_type": "markdown",
   "id": "346720cf",
   "metadata": {},
   "source": [
    "There is a curved relationshop between x and y"
   ]
  },
  {
   "cell_type": "code",
   "execution_count": 17,
   "id": "2d4b71fc",
   "metadata": {},
   "outputs": [
    {
     "data": {
      "text/html": [
       "7.28816160667281"
      ],
      "text/latex": [
       "7.28816160667281"
      ],
      "text/markdown": [
       "7.28816160667281"
      ],
      "text/plain": [
       "[1] 7.288162"
      ]
     },
     "metadata": {},
     "output_type": "display_data"
    }
   ],
   "source": [
    "#c#\n",
    "##i##\n",
    "library(boot)\n",
    "set.seed(1)\n",
    "dat <- data.frame(x, y)\n",
    "fit1 <- glm(y ~ x)\n",
    "cv.glm(Data, fit1)$delta[1]"
   ]
  },
  {
   "cell_type": "code",
   "execution_count": 19,
   "id": "ba79443d",
   "metadata": {},
   "outputs": [
    {
     "data": {
      "text/html": [
       "0.937423637615552"
      ],
      "text/latex": [
       "0.937423637615552"
      ],
      "text/markdown": [
       "0.937423637615552"
      ],
      "text/plain": [
       "[1] 0.9374236"
      ]
     },
     "metadata": {},
     "output_type": "display_data"
    }
   ],
   "source": [
    "##ii##\n",
    "fit2 <- glm(y ~ poly(x, 2))\n",
    "cv.glm(Data, fit2)$delta[1]"
   ]
  },
  {
   "cell_type": "code",
   "execution_count": 20,
   "id": "fa787c6a",
   "metadata": {},
   "outputs": [
    {
     "data": {
      "text/html": [
       "0.95662183010894"
      ],
      "text/latex": [
       "0.95662183010894"
      ],
      "text/markdown": [
       "0.95662183010894"
      ],
      "text/plain": [
       "[1] 0.9566218"
      ]
     },
     "metadata": {},
     "output_type": "display_data"
    }
   ],
   "source": [
    "##iii##\n",
    "fit3 <- glm(y ~ poly(x, 3))\n",
    "cv.glm(Data, fit3)$delta[1]"
   ]
  },
  {
   "cell_type": "code",
   "execution_count": 21,
   "id": "a8fea964",
   "metadata": {},
   "outputs": [
    {
     "data": {
      "text/html": [
       "0.953904892744804"
      ],
      "text/latex": [
       "0.953904892744804"
      ],
      "text/markdown": [
       "0.953904892744804"
      ],
      "text/plain": [
       "[1] 0.9539049"
      ]
     },
     "metadata": {},
     "output_type": "display_data"
    }
   ],
   "source": [
    "##iv##\n",
    "fit4 <- glm(y ~ poly(x, 4))\n",
    "cv.glm(Data, fit4)$delta[1]"
   ]
  },
  {
   "cell_type": "code",
   "execution_count": 24,
   "id": "0307789f",
   "metadata": {},
   "outputs": [
    {
     "data": {
      "text/html": [
       "7.28816160667281"
      ],
      "text/latex": [
       "7.28816160667281"
      ],
      "text/markdown": [
       "7.28816160667281"
      ],
      "text/plain": [
       "[1] 7.288162"
      ]
     },
     "metadata": {},
     "output_type": "display_data"
    }
   ],
   "source": [
    "#d#\n",
    "set.seed(10)\n",
    "fit1 <- glm(y ~ x)\n",
    "cv.glm(Data, fit1)$delta[1]"
   ]
  },
  {
   "cell_type": "code",
   "execution_count": 25,
   "id": "9b8dbc6c",
   "metadata": {},
   "outputs": [
    {
     "data": {
      "text/html": [
       "0.937423637615552"
      ],
      "text/latex": [
       "0.937423637615552"
      ],
      "text/markdown": [
       "0.937423637615552"
      ],
      "text/plain": [
       "[1] 0.9374236"
      ]
     },
     "metadata": {},
     "output_type": "display_data"
    }
   ],
   "source": [
    "fit2 <- glm(y ~ poly(x, 2))\n",
    "cv.glm(Data, fit2)$delta[1]"
   ]
  },
  {
   "cell_type": "code",
   "execution_count": 26,
   "id": "01f4e01b",
   "metadata": {},
   "outputs": [
    {
     "data": {
      "text/html": [
       "0.95662183010894"
      ],
      "text/latex": [
       "0.95662183010894"
      ],
      "text/markdown": [
       "0.95662183010894"
      ],
      "text/plain": [
       "[1] 0.9566218"
      ]
     },
     "metadata": {},
     "output_type": "display_data"
    }
   ],
   "source": [
    "fit3 <- glm(y ~ poly(x, 3))\n",
    "cv.glm(Data, fit3)$delta[1]"
   ]
  },
  {
   "cell_type": "code",
   "execution_count": 27,
   "id": "22398cc0",
   "metadata": {},
   "outputs": [
    {
     "data": {
      "text/html": [
       "0.953904892744804"
      ],
      "text/latex": [
       "0.953904892744804"
      ],
      "text/markdown": [
       "0.953904892744804"
      ],
      "text/plain": [
       "[1] 0.9539049"
      ]
     },
     "metadata": {},
     "output_type": "display_data"
    }
   ],
   "source": [
    "fit4 <- glm(y ~ poly(x, 4))\n",
    "cv.glm(Data, fit4)$delta[1]"
   ]
  },
  {
   "cell_type": "markdown",
   "id": "096408b6",
   "metadata": {},
   "source": [
    "We got the same results from the difference seeds set, and the reason why is that for LOOCV k=n"
   ]
  },
  {
   "cell_type": "code",
   "execution_count": null,
   "id": "b1ff8e64",
   "metadata": {},
   "outputs": [],
   "source": [
    "#e#\n",
    "The smallest error was in fit2"
   ]
  },
  {
   "cell_type": "markdown",
   "id": "397d1b7f",
   "metadata": {},
   "source": [
    "# Chapter 7"
   ]
  },
  {
   "cell_type": "markdown",
   "id": "904c7931",
   "metadata": {},
   "source": [
    "Exercise 9"
   ]
  },
  {
   "cell_type": "code",
   "execution_count": 31,
   "id": "fbe9d429",
   "metadata": {},
   "outputs": [
    {
     "data": {
      "text/plain": [
       "\n",
       "Call:\n",
       "lm(formula = nox ~ poly(dis, 3), data = Boston)\n",
       "\n",
       "Residuals:\n",
       "      Min        1Q    Median        3Q       Max \n",
       "-0.121130 -0.040619 -0.009738  0.023385  0.194904 \n",
       "\n",
       "Coefficients:\n",
       "               Estimate Std. Error t value Pr(>|t|)    \n",
       "(Intercept)    0.554695   0.002759 201.021  < 2e-16 ***\n",
       "poly(dis, 3)1 -2.003096   0.062071 -32.271  < 2e-16 ***\n",
       "poly(dis, 3)2  0.856330   0.062071  13.796  < 2e-16 ***\n",
       "poly(dis, 3)3 -0.318049   0.062071  -5.124 4.27e-07 ***\n",
       "---\n",
       "Signif. codes:  0 '***' 0.001 '**' 0.01 '*' 0.05 '.' 0.1 ' ' 1\n",
       "\n",
       "Residual standard error: 0.06207 on 502 degrees of freedom\n",
       "Multiple R-squared:  0.7148,\tAdjusted R-squared:  0.7131 \n",
       "F-statistic: 419.3 on 3 and 502 DF,  p-value: < 2.2e-16\n"
      ]
     },
     "metadata": {},
     "output_type": "display_data"
    }
   ],
   "source": [
    "#a#\n",
    "library(MASS)\n",
    "fit <- lm(nox ~ poly(dis, 3), data = Boston)\n",
    "summary(fit)"
   ]
  },
  {
   "cell_type": "code",
   "execution_count": 37,
   "id": "77d4a727",
   "metadata": {},
   "outputs": [
    {
     "data": {
      "image/png": "[encoded data removed]",
      "text/plain": [
       "plot without title"
      ]
     },
     "metadata": {
      "image/png": {
       "height": 420,
       "width": 420
      }
     },
     "output_type": "display_data"
    }
   ],
   "source": [
    "dis.grid <- seq(min(Boston$dis), max(Boston$dis))\n",
    "preds <- predict(fit, list(dis = dis.grid), se = TRUE)\n",
    "plot(nox ~ dis, data = Boston)\n",
    "lines(dis.grid, preds$fit, lwd = 2, col = \"blue\")"
   ]
  },
  {
   "cell_type": "code",
   "execution_count": 39,
   "id": "3a595227",
   "metadata": {},
   "outputs": [
    {
     "data": {
      "image/png": "[encoded data removed]",
      "text/plain": [
       "plot without title"
      ]
     },
     "metadata": {
      "image/png": {
       "height": 420,
       "width": 420
      }
     },
     "output_type": "display_data"
    }
   ],
   "source": [
    "#b#\n",
    "#we created a set called deg that contains the 10 degrees and we created a loop as follows: \n",
    "deg <- rep(NA, 10)\n",
    "for (i in 1:10) {\n",
    "  fit2 <- lm(nox ~ poly(dis, i), data = Boston)\n",
    "  deg[i] <- sum(fit2$residuals ^ 2)\n",
    "}\n",
    "plot(1:10, deg, type = 'l')"
   ]
  },
  {
   "cell_type": "code",
   "execution_count": 40,
   "id": "7c628057",
   "metadata": {},
   "outputs": [
    {
     "data": {
      "text/html": [
       "<strong>50%:</strong> 3.20745"
      ],
      "text/latex": [
       "\\textbf{50\\textbackslash{}\\%:} 3.20745"
      ],
      "text/markdown": [
       "**50%:** 3.20745"
      ],
      "text/plain": [
       "    50% \n",
       "3.20745 "
      ]
     },
     "metadata": {},
     "output_type": "display_data"
    }
   ],
   "source": [
    "#d#\n",
    "library(splines)\n",
    "df <- 4\n",
    "fit4 <- lm(nox ~ bs(dis, df = df ), data = Boston)\n",
    "attr(bs(Boston$dis, df = df), \"knots\")"
   ]
  },
  {
   "cell_type": "code",
   "execution_count": 44,
   "id": "d6235daf",
   "metadata": {},
   "outputs": [
    {
     "data": {
      "image/png": "[encoded data removed]",
      "text/plain": [
       "plot without title"
      ]
     },
     "metadata": {
      "image/png": {
       "height": 420,
       "width": 420
      }
     },
     "output_type": "display_data"
    }
   ],
   "source": [
    "dis.grid <- seq(min(Boston$dis), max(Boston$dis))\n",
    "preds <- predict(fit4, list(dis = dis.grid), se = TRUE)\n",
    "plot(nox ~ dis, data = Boston)\n",
    "lines(dis.grid, preds$fit4, lwd = 2, col = \"blue\")"
   ]
  },
  {
   "cell_type": "code",
   "execution_count": 51,
   "id": "96589d19",
   "metadata": {},
   "outputs": [
    {
     "ename": "ERROR",
     "evalue": "Error in xy.coords(x, y, xlabel, ylabel, log): 'x' and 'y' lengths differ\n",
     "output_type": "error",
     "traceback": [
      "Error in xy.coords(x, y, xlabel, ylabel, log): 'x' and 'y' lengths differ\nTraceback:\n",
      "1. plot(df, res, type = \"l\")",
      "2. plot.default(df, res, type = \"l\")",
      "3. xy.coords(x, y, xlabel, ylabel, log)",
      "4. stop(\"'x' and 'y' lengths differ\")"
     ]
    }
   ],
   "source": [
    "#e#\n",
    "deg2 <- c()\n",
    "df <- 3:10\n",
    "for (dof in df) {\n",
    "  fit <- lm(nox ~ bs(dis, df = dof), data = Boston)\n",
    "  res <- c(deg2, sum(fit$residuals ^ 2))\n",
    "}\n",
    "plot(df, res, type = 'l')"
   ]
  }
 ],
 "metadata": {
  "kernelspec": {
   "display_name": "R",
   "language": "R",
   "name": "ir"
  },
  "language_info": {
   "codemirror_mode": "r",
   "file_extension": ".r",
   "mimetype": "text/x-r-source",
   "name": "R",
   "pygments_lexer": "r",
   "version": "4.0.5"
  }
 },
 "nbformat": 4,
 "nbformat_minor": 5
}
